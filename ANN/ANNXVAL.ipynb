{
 "cells": [
  {
   "cell_type": "code",
   "execution_count": 1,
   "metadata": {
    "collapsed": false
   },
   "outputs": [
    {
     "name": "stdout",
     "output_type": "stream",
     "text": [
      "Populating the interactive namespace from numpy and matplotlib\n"
     ]
    }
   ],
   "source": [
    "%pylab inline\n",
    "%matplotlib inline\n",
    "import numpy as np\n",
    "from numpy.random import shuffle\n",
    "from sklearn import preprocessing\n",
    "from sklearn.decomposition import PCA\n",
    "from sklearn.model_selection import cross_val_score\n",
    "from sklearn.neural_network import MLPClassifier"
   ]
  },
  {
   "cell_type": "code",
   "execution_count": 2,
   "metadata": {
    "collapsed": true
   },
   "outputs": [],
   "source": [
    "import wget\n",
    "\n",
    "# load data from file\n",
    "CBD=loadtxt('banking.txt')\n",
    "CBD = CBD # to keep data consistent \n",
    "shuffle(CBD)"
   ]
  },
  {
   "cell_type": "code",
   "execution_count": 3,
   "metadata": {
    "collapsed": true
   },
   "outputs": [],
   "source": [
    "class_labels_CBD =CBD[:,-1]\n",
    "class_labels_CBD= [ int(x) for x in class_labels_CBD ]\n",
    "class_labels_CBD = np.asarray(class_labels_CBD)"
   ]
  },
  {
   "cell_type": "code",
   "execution_count": 4,
   "metadata": {
    "collapsed": true
   },
   "outputs": [],
   "source": [
    "data_CBD=CBD[:,0:-1]"
   ]
  },
  {
   "cell_type": "code",
   "execution_count": 5,
   "metadata": {
    "collapsed": false
   },
   "outputs": [
    {
     "name": "stdout",
     "output_type": "stream",
     "text": [
      "[ 0.80701754  0.80701754  0.78947368  0.64912281  0.71929825  0.64285714\n",
      "  0.78571429  0.78571429  0.71428571  0.85714286]\n",
      "mean:\n",
      "0.755764411028\n"
     ]
    }
   ],
   "source": [
    "mlp_CBD = MLPClassifier(activation = 'logistic', solver='lbfgs', alpha=1e-5,hidden_layer_sizes=(100), max_iter = 2000)\n",
    "scores_CBD = cross_val_score(mlp_CBD,data_CBD,class_labels_CBD, cv=10, scoring = \"accuracy\")\n",
    "print(scores_CBD)\n",
    "print(\"mean:\" )\n",
    "print(scores_CBD.mean())"
   ]
  },
  {
   "cell_type": "code",
   "execution_count": 6,
   "metadata": {
    "collapsed": false
   },
   "outputs": [],
   "source": [
    "def cross_validation(K, n_val, activation_f, solver_f):\n",
    "    n_range_CBD = range(1,51)\n",
    "    n_scores_CBD = list()\n",
    "    for n in n_range_CBD:\n",
    "        if n_val == 1:\n",
    "            mlp_CBD = MLPClassifier(activation = activation_f, solver=solver_f, alpha=1e-5,hidden_layer_sizes=(n))\n",
    "        elif n_val == 2:\n",
    "            mlp_CBD = MLPClassifier(activation = activation_f, solver=solver_f, alpha=1e-5,hidden_layer_sizes=(n,n))\n",
    "        elif n_val == 3:\n",
    "            mlp_CBD = MLPClassifier(activation = activation_f, solver=solver_f, alpha=1e-5,hidden_layer_sizes=(n,n,n))\n",
    "        scores_CBD = cross_val_score(mlp_CBD,data_CBD,class_labels_CBD, cv=K, scoring = \"accuracy\")\n",
    "\n",
    "        n_scores_CBD.append(scores_CBD.mean())\n",
    "\n",
    "#     print(n_scores_CBD)\n",
    "    print(\"mean: \")\n",
    "    print(sum(n_scores_CBD)/len(n_scores_CBD))\n",
    "    return n_scores_CBD"
   ]
  },
  {
   "cell_type": "code",
   "execution_count": null,
   "metadata": {
    "collapsed": false
   },
   "outputs": [],
   "source": [
    "\n",
    "def find_opt_nodes(n_scores):\n",
    "    max_num = max(n_scores)\n",
    "    for i in range(len(n_scores)):\n",
    "        if n_scores[i] == max_num:\n",
    "            print(\"number nodes: \", i+1)\n",
    "            print(\"accuracy: \", max_num*100, \"%\")\n",
    "            print(\"accuracy: \", round(max_num*100,2),\"%\")\n",
    "            return i+1\n",
    "        \n",
    "test1 = cross_validation(10, 1, 'logistic', 'lbfgs')\n",
    "test2 = cross_validation(10, 2, 'logistic', 'lbfgs')\n",
    "test3 = cross_validation(10, 3, 'logistic', 'lbfgs')\n",
    "n_CBD1 = find_opt_nodes(test1)\n",
    "n_CBD2 = find_opt_nodes(test2)\n",
    "n_CBD3 = find_opt_nodes(test3)"
   ]
  },
  {
   "cell_type": "code",
   "execution_count": null,
   "metadata": {
    "collapsed": false,
    "scrolled": false
   },
   "outputs": [],
   "source": [
    "import matplotlib.pyplot as plt\n",
    "\n",
    "figure()\n",
    "# figsize(8,8)\n",
    "plt.plot(range(1,51),test1,\"b\", label =\"Cross Validation Accuracy 1\")\n",
    "# plt.plot(range(1,51),test2,\"g\", label =\"Cross Validation Accuracy 2\")\n",
    "# plt.plot(range(1,51),test3,\"r\", label =\"Cross Validation Accuracy 3\")\n",
    "plt.xlabel(\"number of possible nodes in the network\")\n",
    "plt.ylabel(\"cross val accuracy\")\n",
    "legend(loc = \"best\")\n",
    "\n",
    "figure()\n",
    "# figsize(8,8)\n",
    "# plt.plot(range(1,51),test1,\"b\", label =\"Cross Validation Accuracy 1\")\n",
    "plt.plot(range(1,51),test2,\"g\", label =\"Cross Validation Accuracy 2\")\n",
    "# plt.plot(range(1,51),test3,\"r\", label =\"Cross Validation Accuracy 3\")\n",
    "plt.xlabel(\"number of possible nodes in the network\")\n",
    "plt.ylabel(\"cross val accuracy\")\n",
    "legend(loc = \"best\")\n",
    "\n",
    "figure()\n",
    "# figsize(8,8)\n",
    "# plt.plot(range(1,51),test1,\"b\", label =\"Cross Validation Accuracy 1\")\n",
    "# plt.plot(range(1,51),test2,\"g\", label =\"Cross Validation Accuracy 2\")\n",
    "plt.plot(range(1,51),test3,\"r\", label =\"Cross Validation Accuracy 3\")\n",
    "plt.xlabel(\"number of possible nodes in the network\")\n",
    "plt.ylabel(\"cross val accuracy\")\n",
    "legend(loc = \"best\")\n",
    "\n",
    "\n",
    "figure()\n",
    "# figsize(8,8)\n",
    "plt.plot(range(1,51),test1,\"b\", label =\"Cross Validation Accuracy 1\")\n",
    "plt.plot(range(1,51),test2,\"g\", label =\"Cross Validation Accuracy 2\")\n",
    "plt.plot(range(1,51),test3,\"r\", label =\"Cross Validation Accuracy 3\")\n",
    "plt.xlabel(\"number of possible nodes in the network\")\n",
    "plt.ylabel(\"cross val accuracy\")\n",
    "legend(loc = \"best\")"
   ]
  },
  {
   "cell_type": "code",
   "execution_count": null,
   "metadata": {
    "collapsed": true
   },
   "outputs": [],
   "source": []
  },
  {
   "cell_type": "code",
   "execution_count": null,
   "metadata": {
    "collapsed": true
   },
   "outputs": [],
   "source": []
  }
 ],
 "metadata": {
  "kernelspec": {
   "display_name": "Python 3",
   "language": "python",
   "name": "python3"
  },
  "language_info": {
   "codemirror_mode": {
    "name": "ipython",
    "version": 3
   },
   "file_extension": ".py",
   "mimetype": "text/x-python",
   "name": "python",
   "nbconvert_exporter": "python",
   "pygments_lexer": "ipython3",
   "version": "3.6.0"
  }
 },
 "nbformat": 4,
 "nbformat_minor": 2
}
